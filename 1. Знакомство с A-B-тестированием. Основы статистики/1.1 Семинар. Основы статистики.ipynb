{
 "cells": [
  {
   "cell_type": "markdown",
   "id": "4c047453",
   "metadata": {},
   "source": [
    "## Задача 1. Популярные товары"
   ]
  },
  {
   "cell_type": "code",
   "execution_count": 2,
   "id": "fba87f9b",
   "metadata": {},
   "outputs": [],
   "source": [
    "import pandas as pd"
   ]
  },
  {
   "cell_type": "code",
   "execution_count": 4,
   "id": "a778856b",
   "metadata": {},
   "outputs": [],
   "source": [
    "df = pd.read_csv('2022-04-01T12_df_sales_detail.csv')"
   ]
  },
  {
   "cell_type": "code",
   "execution_count": 5,
   "id": "8a4f55f4",
   "metadata": {},
   "outputs": [
    {
     "data": {
      "text/html": [
       "<div>\n",
       "<style scoped>\n",
       "    .dataframe tbody tr th:only-of-type {\n",
       "        vertical-align: middle;\n",
       "    }\n",
       "\n",
       "    .dataframe tbody tr th {\n",
       "        vertical-align: top;\n",
       "    }\n",
       "\n",
       "    .dataframe thead th {\n",
       "        text-align: right;\n",
       "    }\n",
       "</style>\n",
       "<table border=\"1\" class=\"dataframe\">\n",
       "  <thead>\n",
       "    <tr style=\"text-align: right;\">\n",
       "      <th></th>\n",
       "      <th>sale_id</th>\n",
       "      <th>good</th>\n",
       "      <th>price</th>\n",
       "      <th>date</th>\n",
       "      <th>user_id</th>\n",
       "    </tr>\n",
       "  </thead>\n",
       "  <tbody>\n",
       "    <tr>\n",
       "      <th>0</th>\n",
       "      <td>1000001</td>\n",
       "      <td>mexican pizza</td>\n",
       "      <td>720</td>\n",
       "      <td>2022-02-04 10:00:24</td>\n",
       "      <td>1c1543</td>\n",
       "    </tr>\n",
       "    <tr>\n",
       "      <th>1</th>\n",
       "      <td>1000002</td>\n",
       "      <td>chefs pizza</td>\n",
       "      <td>840</td>\n",
       "      <td>2022-02-04 10:02:28</td>\n",
       "      <td>a9a6e8</td>\n",
       "    </tr>\n",
       "    <tr>\n",
       "      <th>2</th>\n",
       "      <td>1000002</td>\n",
       "      <td>orange juice</td>\n",
       "      <td>90</td>\n",
       "      <td>2022-02-04 10:02:28</td>\n",
       "      <td>a9a6e8</td>\n",
       "    </tr>\n",
       "    <tr>\n",
       "      <th>3</th>\n",
       "      <td>1000003</td>\n",
       "      <td>cheese pizza</td>\n",
       "      <td>600</td>\n",
       "      <td>2022-02-04 10:02:35</td>\n",
       "      <td>23420a</td>\n",
       "    </tr>\n",
       "    <tr>\n",
       "      <th>4</th>\n",
       "      <td>1000003</td>\n",
       "      <td>italian pizza</td>\n",
       "      <td>720</td>\n",
       "      <td>2022-02-04 10:02:35</td>\n",
       "      <td>23420a</td>\n",
       "    </tr>\n",
       "  </tbody>\n",
       "</table>\n",
       "</div>"
      ],
      "text/plain": [
       "   sale_id           good  price                 date user_id\n",
       "0  1000001  mexican pizza    720  2022-02-04 10:00:24  1c1543\n",
       "1  1000002    chefs pizza    840  2022-02-04 10:02:28  a9a6e8\n",
       "2  1000002   orange juice     90  2022-02-04 10:02:28  a9a6e8\n",
       "3  1000003   cheese pizza    600  2022-02-04 10:02:35  23420a\n",
       "4  1000003  italian pizza    720  2022-02-04 10:02:35  23420a"
      ]
     },
     "execution_count": 5,
     "metadata": {},
     "output_type": "execute_result"
    }
   ],
   "source": [
    "df.head()"
   ]
  },
  {
   "cell_type": "code",
   "execution_count": 12,
   "id": "f5a6886d",
   "metadata": {},
   "outputs": [
    {
     "data": {
      "text/plain": [
       "good\n",
       "chefs pizza                24558240\n",
       "double pepperoni pizza     22558380\n",
       "chicken bbq pizza          17622540\n",
       "farmhouse pizza            16612440\n",
       "greek pizza                15976080\n",
       "meat pizza                 15540000\n",
       "hawaiian pizza             15471060\n",
       "pepperoni pizza            15050400\n",
       "vegetarian pizza           15026040\n",
       "cheese pizza               15004200\n",
       "4 cheese pizza             14957280\n",
       "mexican pizza              14641920\n",
       "ham and mushrooms pizza    13502280\n",
       "italian pizza              13088160\n",
       "margarita pizza            10465200\n",
       "orange juice                1492920\n",
       "apple juice                 1379700\n",
       "sparkling water             1114980\n",
       "cherry juice                 957510\n",
       "still water                  823080\n",
       "Name: price, dtype: int64"
      ]
     },
     "execution_count": 12,
     "metadata": {},
     "output_type": "execute_result"
    }
   ],
   "source": [
    "df.groupby('good')['price'].agg(sum).sort_values(ascending=False)"
   ]
  },
  {
   "cell_type": "markdown",
   "id": "06cabc4b",
   "metadata": {},
   "source": [
    "> Решение с разбором"
   ]
  },
  {
   "cell_type": "code",
   "execution_count": 15,
   "id": "53625604",
   "metadata": {},
   "outputs": [
    {
     "data": {
      "text/plain": [
       "good\n",
       "chicken bbq pizza         17622540\n",
       "double pepperoni pizza    22558380\n",
       "chefs pizza               24558240\n",
       "Name: price, dtype: int64"
      ]
     },
     "execution_count": 15,
     "metadata": {},
     "output_type": "execute_result"
    }
   ],
   "source": [
    "df.groupby('good')['price'].agg(sum).sort_values()[-3:]"
   ]
  },
  {
   "cell_type": "code",
   "execution_count": 16,
   "id": "d2d43da7",
   "metadata": {},
   "outputs": [
    {
     "data": {
      "text/plain": [
       "['chicken bbq pizza', 'double pepperoni pizza', 'chefs pizza']"
      ]
     },
     "execution_count": 16,
     "metadata": {},
     "output_type": "execute_result"
    }
   ],
   "source": [
    "df.groupby('good')['price'].agg(sum).sort_values()[-3:].index.tolist()"
   ]
  },
  {
   "cell_type": "code",
   "execution_count": 11,
   "id": "727f16ab",
   "metadata": {},
   "outputs": [
    {
     "name": "stdout",
     "output_type": "stream",
     "text": [
      "Ответ: ['chicken bbq pizza', 'double pepperoni pizza', 'chefs pizza']\n"
     ]
    }
   ],
   "source": [
    "import os\n",
    "import pandas as pd\n",
    "\n",
    "URL_BASE = 'https://raw.githubusercontent.com/ab-courses/simulator-ab-datasets/main/2022-04-01/'\n",
    "\n",
    "def read_database(file_name):\n",
    "    return pd.read_csv(os.path.join(URL_BASE, file_name))\n",
    "\n",
    "df_sales_detail = read_database('2022-04-01T12_df_sales_detail.csv')\n",
    "df_sales_detail['date'] = pd.to_datetime(df_sales_detail['date'])\n",
    "top_3_revenue = (\n",
    "    df_sales_detail\n",
    "    .groupby('good')['price'].sum()\n",
    "    .sort_values()[-3:].index.tolist()\n",
    ")\n",
    "print('Ответ:', top_3_revenue)"
   ]
  },
  {
   "cell_type": "markdown",
   "id": "43b7c279",
   "metadata": {},
   "source": [
    "## Задача 2. Время от захода на сайт до покупки"
   ]
  },
  {
   "cell_type": "code",
   "execution_count": 18,
   "id": "4ab5f833",
   "metadata": {},
   "outputs": [],
   "source": [
    "import os\n",
    "import pandas as pd\n",
    "\n",
    "url_first_file = 'https://yadi.sk/d/b6HZoJ9dntvtSw'\n",
    "url_second_file = 'https://yadi.sk/d/e8GpFppgQQ_n2A'"
   ]
  },
  {
   "cell_type": "code",
   "execution_count": 20,
   "id": "c7300120",
   "metadata": {},
   "outputs": [],
   "source": [
    "df_sales = pd.read_csv(os.path.join(url_first_file, '2022-04-01T12_df_sales.csv'))"
   ]
  },
  {
   "cell_type": "code",
   "execution_count": 22,
   "id": "2a2ee483",
   "metadata": {},
   "outputs": [],
   "source": [
    "df_sales = pd.read_csv('2022-04-01T12_df_sales.csv')"
   ]
  },
  {
   "cell_type": "code",
   "execution_count": 23,
   "id": "a33e7c45",
   "metadata": {},
   "outputs": [
    {
     "data": {
      "text/html": [
       "<div>\n",
       "<style scoped>\n",
       "    .dataframe tbody tr th:only-of-type {\n",
       "        vertical-align: middle;\n",
       "    }\n",
       "\n",
       "    .dataframe tbody tr th {\n",
       "        vertical-align: top;\n",
       "    }\n",
       "\n",
       "    .dataframe thead th {\n",
       "        text-align: right;\n",
       "    }\n",
       "</style>\n",
       "<table border=\"1\" class=\"dataframe\">\n",
       "  <thead>\n",
       "    <tr style=\"text-align: right;\">\n",
       "      <th></th>\n",
       "      <th>sale_id</th>\n",
       "      <th>date</th>\n",
       "      <th>count_pizza</th>\n",
       "      <th>count_drink</th>\n",
       "      <th>price</th>\n",
       "      <th>user_id</th>\n",
       "    </tr>\n",
       "  </thead>\n",
       "  <tbody>\n",
       "    <tr>\n",
       "      <th>0</th>\n",
       "      <td>1000001</td>\n",
       "      <td>2022-02-04 10:00:24</td>\n",
       "      <td>1</td>\n",
       "      <td>0</td>\n",
       "      <td>720</td>\n",
       "      <td>1c1543</td>\n",
       "    </tr>\n",
       "    <tr>\n",
       "      <th>1</th>\n",
       "      <td>1000002</td>\n",
       "      <td>2022-02-04 10:02:28</td>\n",
       "      <td>1</td>\n",
       "      <td>1</td>\n",
       "      <td>930</td>\n",
       "      <td>a9a6e8</td>\n",
       "    </tr>\n",
       "    <tr>\n",
       "      <th>2</th>\n",
       "      <td>1000003</td>\n",
       "      <td>2022-02-04 10:02:35</td>\n",
       "      <td>3</td>\n",
       "      <td>1</td>\n",
       "      <td>1980</td>\n",
       "      <td>23420a</td>\n",
       "    </tr>\n",
       "    <tr>\n",
       "      <th>3</th>\n",
       "      <td>1000004</td>\n",
       "      <td>2022-02-04 10:03:06</td>\n",
       "      <td>1</td>\n",
       "      <td>1</td>\n",
       "      <td>750</td>\n",
       "      <td>3e8ed5</td>\n",
       "    </tr>\n",
       "    <tr>\n",
       "      <th>4</th>\n",
       "      <td>1000005</td>\n",
       "      <td>2022-02-04 10:03:23</td>\n",
       "      <td>1</td>\n",
       "      <td>1</td>\n",
       "      <td>870</td>\n",
       "      <td>cbc468</td>\n",
       "    </tr>\n",
       "  </tbody>\n",
       "</table>\n",
       "</div>"
      ],
      "text/plain": [
       "   sale_id                 date  count_pizza  count_drink  price user_id\n",
       "0  1000001  2022-02-04 10:00:24            1            0    720  1c1543\n",
       "1  1000002  2022-02-04 10:02:28            1            1    930  a9a6e8\n",
       "2  1000003  2022-02-04 10:02:35            3            1   1980  23420a\n",
       "3  1000004  2022-02-04 10:03:06            1            1    750  3e8ed5\n",
       "4  1000005  2022-02-04 10:03:23            1            1    870  cbc468"
      ]
     },
     "execution_count": 23,
     "metadata": {},
     "output_type": "execute_result"
    }
   ],
   "source": [
    "df_sales.head()"
   ]
  },
  {
   "cell_type": "code",
   "execution_count": 24,
   "id": "d2226c51",
   "metadata": {},
   "outputs": [],
   "source": [
    "df_web_logs = pd.read_csv('2022-04-01T12_df_web_logs.csv')"
   ]
  },
  {
   "cell_type": "code",
   "execution_count": 25,
   "id": "da56645a",
   "metadata": {},
   "outputs": [
    {
     "data": {
      "text/html": [
       "<div>\n",
       "<style scoped>\n",
       "    .dataframe tbody tr th:only-of-type {\n",
       "        vertical-align: middle;\n",
       "    }\n",
       "\n",
       "    .dataframe tbody tr th {\n",
       "        vertical-align: top;\n",
       "    }\n",
       "\n",
       "    .dataframe thead th {\n",
       "        text-align: right;\n",
       "    }\n",
       "</style>\n",
       "<table border=\"1\" class=\"dataframe\">\n",
       "  <thead>\n",
       "    <tr style=\"text-align: right;\">\n",
       "      <th></th>\n",
       "      <th>user_id</th>\n",
       "      <th>page</th>\n",
       "      <th>date</th>\n",
       "      <th>load_time</th>\n",
       "    </tr>\n",
       "  </thead>\n",
       "  <tbody>\n",
       "    <tr>\n",
       "      <th>0</th>\n",
       "      <td>f25239</td>\n",
       "      <td>m</td>\n",
       "      <td>2022-02-03 23:45:37</td>\n",
       "      <td>80.8</td>\n",
       "    </tr>\n",
       "    <tr>\n",
       "      <th>1</th>\n",
       "      <td>06d6df</td>\n",
       "      <td>m</td>\n",
       "      <td>2022-02-03 23:49:56</td>\n",
       "      <td>70.5</td>\n",
       "    </tr>\n",
       "    <tr>\n",
       "      <th>2</th>\n",
       "      <td>06d6df</td>\n",
       "      <td>m</td>\n",
       "      <td>2022-02-03 23:51:16</td>\n",
       "      <td>89.7</td>\n",
       "    </tr>\n",
       "    <tr>\n",
       "      <th>3</th>\n",
       "      <td>f25239</td>\n",
       "      <td>m</td>\n",
       "      <td>2022-02-03 23:51:43</td>\n",
       "      <td>74.4</td>\n",
       "    </tr>\n",
       "    <tr>\n",
       "      <th>4</th>\n",
       "      <td>697870</td>\n",
       "      <td>m</td>\n",
       "      <td>2022-02-03 23:53:12</td>\n",
       "      <td>66.8</td>\n",
       "    </tr>\n",
       "  </tbody>\n",
       "</table>\n",
       "</div>"
      ],
      "text/plain": [
       "  user_id page                 date  load_time\n",
       "0  f25239    m  2022-02-03 23:45:37       80.8\n",
       "1  06d6df    m  2022-02-03 23:49:56       70.5\n",
       "2  06d6df    m  2022-02-03 23:51:16       89.7\n",
       "3  f25239    m  2022-02-03 23:51:43       74.4\n",
       "4  697870    m  2022-02-03 23:53:12       66.8"
      ]
     },
     "execution_count": 25,
     "metadata": {},
     "output_type": "execute_result"
    }
   ],
   "source": [
    "df_web_logs.head()"
   ]
  },
  {
   "cell_type": "markdown",
   "id": "61b6bdb4",
   "metadata": {},
   "source": [
    "### Таблицы:\n",
    "`sales` - информация о покупках, одна строка - один заказ. Атрибуты: \\\n",
    "sale_id - идентификатор покупки; \\\n",
    "date - дата покупки; \\\n",
    "count_pizza - количество пицц в заказе; \\\n",
    "count_drink - количество напитков в заказе; \\\n",
    "price - стоимость заказа; \\\n",
    "user_id - идентификатор пользователя; \n",
    "\n",
    "`sales detail` - детализированная информация о покупках, одна строка - один товар в заказе. Атрибуты: \\\n",
    "sale_id - идентификатор покупки; \\\n",
    "good - название товара; \\\n",
    "price - цена товара; \\\n",
    "date - дата покупки; \\\n",
    "user_id - идентификатор пользователя;\n",
    "\n",
    "`web-logs` - талица с логами посещения сайта. Атрибуты: \\\n",
    "user_id - идентификатор пользователя; \\\n",
    "page - какая страница сайта была открыта. Типы страниц: \\\n",
    "m - страница с меню; \\\n",
    "b - страница с корзиной и потдверждением заказа; \\\n",
    "p - страница с оплатой заказа; \\\n",
    "date - дата открытия страницы; \\\n",
    "load_time - время загрузки страницы в миллисекундах."
   ]
  },
  {
   "cell_type": "code",
   "execution_count": 31,
   "id": "4da4fc14",
   "metadata": {},
   "outputs": [],
   "source": [
    "from datetime import timedelta\n",
    "\n",
    "# объединяем таблицы с покупками и логами по пользователям\n",
    "# оставляем только user_id и времена\n",
    "df = pd.merge(\n",
    "    df_sales[['user_id', 'date']].rename(columns={'date': 'date_sale'}),\n",
    "    df_web_logs[['user_id', 'date']].rename(columns={'date': 'date_web'}),\n",
    "    on='user_id',\n",
    "    how='inner'\n",
    ")"
   ]
  },
  {
   "cell_type": "code",
   "execution_count": 35,
   "id": "7f0af9b7",
   "metadata": {},
   "outputs": [
    {
     "data": {
      "text/html": [
       "<div>\n",
       "<style scoped>\n",
       "    .dataframe tbody tr th:only-of-type {\n",
       "        vertical-align: middle;\n",
       "    }\n",
       "\n",
       "    .dataframe tbody tr th {\n",
       "        vertical-align: top;\n",
       "    }\n",
       "\n",
       "    .dataframe thead th {\n",
       "        text-align: right;\n",
       "    }\n",
       "</style>\n",
       "<table border=\"1\" class=\"dataframe\">\n",
       "  <thead>\n",
       "    <tr style=\"text-align: right;\">\n",
       "      <th></th>\n",
       "      <th>user_id</th>\n",
       "      <th>date_sale</th>\n",
       "      <th>date_web</th>\n",
       "    </tr>\n",
       "  </thead>\n",
       "  <tbody>\n",
       "    <tr>\n",
       "      <th>0</th>\n",
       "      <td>1c1543</td>\n",
       "      <td>2022-02-04 10:00:24</td>\n",
       "      <td>2022-02-04 09:50:02</td>\n",
       "    </tr>\n",
       "    <tr>\n",
       "      <th>1</th>\n",
       "      <td>1c1543</td>\n",
       "      <td>2022-02-04 10:00:24</td>\n",
       "      <td>2022-02-04 09:51:16</td>\n",
       "    </tr>\n",
       "    <tr>\n",
       "      <th>2</th>\n",
       "      <td>1c1543</td>\n",
       "      <td>2022-02-04 10:00:24</td>\n",
       "      <td>2022-02-04 09:52:58</td>\n",
       "    </tr>\n",
       "    <tr>\n",
       "      <th>3</th>\n",
       "      <td>1c1543</td>\n",
       "      <td>2022-02-04 10:00:24</td>\n",
       "      <td>2022-02-04 09:57:04</td>\n",
       "    </tr>\n",
       "    <tr>\n",
       "      <th>4</th>\n",
       "      <td>1c1543</td>\n",
       "      <td>2022-02-04 10:00:24</td>\n",
       "      <td>2022-02-04 09:57:28</td>\n",
       "    </tr>\n",
       "  </tbody>\n",
       "</table>\n",
       "</div>"
      ],
      "text/plain": [
       "  user_id            date_sale             date_web\n",
       "0  1c1543  2022-02-04 10:00:24  2022-02-04 09:50:02\n",
       "1  1c1543  2022-02-04 10:00:24  2022-02-04 09:51:16\n",
       "2  1c1543  2022-02-04 10:00:24  2022-02-04 09:52:58\n",
       "3  1c1543  2022-02-04 10:00:24  2022-02-04 09:57:04\n",
       "4  1c1543  2022-02-04 10:00:24  2022-02-04 09:57:28"
      ]
     },
     "execution_count": 35,
     "metadata": {},
     "output_type": "execute_result"
    }
   ],
   "source": [
    "df.head()"
   ]
  },
  {
   "cell_type": "code",
   "execution_count": 36,
   "id": "9cbf799c",
   "metadata": {},
   "outputs": [
    {
     "name": "stdout",
     "output_type": "stream",
     "text": [
      "<class 'pandas.core.frame.DataFrame'>\n",
      "Int64Index: 4622837 entries, 0 to 4622836\n",
      "Data columns (total 3 columns):\n",
      " #   Column     Dtype \n",
      "---  ------     ----- \n",
      " 0   user_id    object\n",
      " 1   date_sale  object\n",
      " 2   date_web   object\n",
      "dtypes: object(3)\n",
      "memory usage: 141.1+ MB\n"
     ]
    }
   ],
   "source": [
    "df.info()"
   ]
  },
  {
   "cell_type": "code",
   "execution_count": 38,
   "id": "4874fc77",
   "metadata": {},
   "outputs": [],
   "source": [
    "df['date_sale'] = pd.to_datetime(df['date_sale'], unit='ns')\n",
    "df['date_web'] = pd.to_datetime(df['date_web'], unit='ns')"
   ]
  },
  {
   "cell_type": "code",
   "execution_count": 39,
   "id": "1fa8b85f",
   "metadata": {},
   "outputs": [],
   "source": [
    "# удаляем строки, в которых заход на сайт ранее 2 часов до покупки или после покупки\n",
    "df = df[\n",
    "    (df['date_web'] >= df['date_sale'] - timedelta(hours=2))\n",
    "    & (df['date_web'] < df['date_sale'])\n",
    "].copy()"
   ]
  },
  {
   "cell_type": "code",
   "execution_count": 43,
   "id": "aeb3f17e",
   "metadata": {},
   "outputs": [
    {
     "data": {
      "text/html": [
       "<div>\n",
       "<style scoped>\n",
       "    .dataframe tbody tr th:only-of-type {\n",
       "        vertical-align: middle;\n",
       "    }\n",
       "\n",
       "    .dataframe tbody tr th {\n",
       "        vertical-align: top;\n",
       "    }\n",
       "\n",
       "    .dataframe thead th {\n",
       "        text-align: right;\n",
       "    }\n",
       "</style>\n",
       "<table border=\"1\" class=\"dataframe\">\n",
       "  <thead>\n",
       "    <tr style=\"text-align: right;\">\n",
       "      <th></th>\n",
       "      <th>user_id</th>\n",
       "      <th>date_sale</th>\n",
       "      <th>date_web</th>\n",
       "    </tr>\n",
       "  </thead>\n",
       "  <tbody>\n",
       "    <tr>\n",
       "      <th>0</th>\n",
       "      <td>000096</td>\n",
       "      <td>2022-03-04 11:15:55</td>\n",
       "      <td>2022-03-04 10:58:01</td>\n",
       "    </tr>\n",
       "    <tr>\n",
       "      <th>1</th>\n",
       "      <td>000096</td>\n",
       "      <td>2022-03-22 13:16:09</td>\n",
       "      <td>2022-03-22 12:57:54</td>\n",
       "    </tr>\n",
       "    <tr>\n",
       "      <th>2</th>\n",
       "      <td>0000d4</td>\n",
       "      <td>2022-02-28 16:32:09</td>\n",
       "      <td>2022-02-28 16:13:47</td>\n",
       "    </tr>\n",
       "    <tr>\n",
       "      <th>3</th>\n",
       "      <td>0000d4</td>\n",
       "      <td>2022-03-27 11:26:30</td>\n",
       "      <td>2022-03-27 11:09:14</td>\n",
       "    </tr>\n",
       "    <tr>\n",
       "      <th>4</th>\n",
       "      <td>0000de</td>\n",
       "      <td>2022-02-11 18:57:15</td>\n",
       "      <td>2022-02-11 18:41:22</td>\n",
       "    </tr>\n",
       "    <tr>\n",
       "      <th>...</th>\n",
       "      <td>...</td>\n",
       "      <td>...</td>\n",
       "      <td>...</td>\n",
       "    </tr>\n",
       "    <tr>\n",
       "      <th>203842</th>\n",
       "      <td>fffcab</td>\n",
       "      <td>2022-03-07 14:44:11</td>\n",
       "      <td>2022-03-07 14:29:17</td>\n",
       "    </tr>\n",
       "    <tr>\n",
       "      <th>203843</th>\n",
       "      <td>fffd64</td>\n",
       "      <td>2022-02-18 12:55:14</td>\n",
       "      <td>2022-02-18 12:42:01</td>\n",
       "    </tr>\n",
       "    <tr>\n",
       "      <th>203844</th>\n",
       "      <td>ffff62</td>\n",
       "      <td>2022-03-19 20:36:32</td>\n",
       "      <td>2022-03-19 20:20:51</td>\n",
       "    </tr>\n",
       "    <tr>\n",
       "      <th>203845</th>\n",
       "      <td>ffff8f</td>\n",
       "      <td>2022-02-05 12:31:36</td>\n",
       "      <td>2022-02-05 12:19:59</td>\n",
       "    </tr>\n",
       "    <tr>\n",
       "      <th>203846</th>\n",
       "      <td>ffff8f</td>\n",
       "      <td>2022-02-13 19:27:01</td>\n",
       "      <td>2022-02-13 19:13:39</td>\n",
       "    </tr>\n",
       "  </tbody>\n",
       "</table>\n",
       "<p>203847 rows × 3 columns</p>\n",
       "</div>"
      ],
      "text/plain": [
       "       user_id           date_sale            date_web\n",
       "0       000096 2022-03-04 11:15:55 2022-03-04 10:58:01\n",
       "1       000096 2022-03-22 13:16:09 2022-03-22 12:57:54\n",
       "2       0000d4 2022-02-28 16:32:09 2022-02-28 16:13:47\n",
       "3       0000d4 2022-03-27 11:26:30 2022-03-27 11:09:14\n",
       "4       0000de 2022-02-11 18:57:15 2022-02-11 18:41:22\n",
       "...        ...                 ...                 ...\n",
       "203842  fffcab 2022-03-07 14:44:11 2022-03-07 14:29:17\n",
       "203843  fffd64 2022-02-18 12:55:14 2022-02-18 12:42:01\n",
       "203844  ffff62 2022-03-19 20:36:32 2022-03-19 20:20:51\n",
       "203845  ffff8f 2022-02-05 12:31:36 2022-02-05 12:19:59\n",
       "203846  ffff8f 2022-02-13 19:27:01 2022-02-13 19:13:39\n",
       "\n",
       "[203847 rows x 3 columns]"
      ]
     },
     "execution_count": 43,
     "metadata": {},
     "output_type": "execute_result"
    }
   ],
   "source": [
    "# определяем время первого захода на сайт для покупки\n",
    "df_first_web = df.groupby(['user_id', 'date_sale'])[['date_web']].min().reset_index()\n",
    "df_first_web"
   ]
  },
  {
   "cell_type": "code",
   "execution_count": 44,
   "id": "1a244f19",
   "metadata": {},
   "outputs": [
    {
     "data": {
      "text/html": [
       "<div>\n",
       "<style scoped>\n",
       "    .dataframe tbody tr th:only-of-type {\n",
       "        vertical-align: middle;\n",
       "    }\n",
       "\n",
       "    .dataframe tbody tr th {\n",
       "        vertical-align: top;\n",
       "    }\n",
       "\n",
       "    .dataframe thead th {\n",
       "        text-align: right;\n",
       "    }\n",
       "</style>\n",
       "<table border=\"1\" class=\"dataframe\">\n",
       "  <thead>\n",
       "    <tr style=\"text-align: right;\">\n",
       "      <th></th>\n",
       "      <th>user_id</th>\n",
       "      <th>date_sale</th>\n",
       "      <th>date_web</th>\n",
       "      <th>delta</th>\n",
       "    </tr>\n",
       "  </thead>\n",
       "  <tbody>\n",
       "    <tr>\n",
       "      <th>0</th>\n",
       "      <td>000096</td>\n",
       "      <td>2022-03-04 11:15:55</td>\n",
       "      <td>2022-03-04 10:58:01</td>\n",
       "      <td>1074.0</td>\n",
       "    </tr>\n",
       "    <tr>\n",
       "      <th>1</th>\n",
       "      <td>000096</td>\n",
       "      <td>2022-03-22 13:16:09</td>\n",
       "      <td>2022-03-22 12:57:54</td>\n",
       "      <td>1095.0</td>\n",
       "    </tr>\n",
       "    <tr>\n",
       "      <th>2</th>\n",
       "      <td>0000d4</td>\n",
       "      <td>2022-02-28 16:32:09</td>\n",
       "      <td>2022-02-28 16:13:47</td>\n",
       "      <td>1102.0</td>\n",
       "    </tr>\n",
       "    <tr>\n",
       "      <th>3</th>\n",
       "      <td>0000d4</td>\n",
       "      <td>2022-03-27 11:26:30</td>\n",
       "      <td>2022-03-27 11:09:14</td>\n",
       "      <td>1036.0</td>\n",
       "    </tr>\n",
       "    <tr>\n",
       "      <th>4</th>\n",
       "      <td>0000de</td>\n",
       "      <td>2022-02-11 18:57:15</td>\n",
       "      <td>2022-02-11 18:41:22</td>\n",
       "      <td>953.0</td>\n",
       "    </tr>\n",
       "    <tr>\n",
       "      <th>...</th>\n",
       "      <td>...</td>\n",
       "      <td>...</td>\n",
       "      <td>...</td>\n",
       "      <td>...</td>\n",
       "    </tr>\n",
       "    <tr>\n",
       "      <th>203842</th>\n",
       "      <td>fffcab</td>\n",
       "      <td>2022-03-07 14:44:11</td>\n",
       "      <td>2022-03-07 14:29:17</td>\n",
       "      <td>894.0</td>\n",
       "    </tr>\n",
       "    <tr>\n",
       "      <th>203843</th>\n",
       "      <td>fffd64</td>\n",
       "      <td>2022-02-18 12:55:14</td>\n",
       "      <td>2022-02-18 12:42:01</td>\n",
       "      <td>793.0</td>\n",
       "    </tr>\n",
       "    <tr>\n",
       "      <th>203844</th>\n",
       "      <td>ffff62</td>\n",
       "      <td>2022-03-19 20:36:32</td>\n",
       "      <td>2022-03-19 20:20:51</td>\n",
       "      <td>941.0</td>\n",
       "    </tr>\n",
       "    <tr>\n",
       "      <th>203845</th>\n",
       "      <td>ffff8f</td>\n",
       "      <td>2022-02-05 12:31:36</td>\n",
       "      <td>2022-02-05 12:19:59</td>\n",
       "      <td>697.0</td>\n",
       "    </tr>\n",
       "    <tr>\n",
       "      <th>203846</th>\n",
       "      <td>ffff8f</td>\n",
       "      <td>2022-02-13 19:27:01</td>\n",
       "      <td>2022-02-13 19:13:39</td>\n",
       "      <td>802.0</td>\n",
       "    </tr>\n",
       "  </tbody>\n",
       "</table>\n",
       "<p>203847 rows × 4 columns</p>\n",
       "</div>"
      ],
      "text/plain": [
       "       user_id           date_sale            date_web   delta\n",
       "0       000096 2022-03-04 11:15:55 2022-03-04 10:58:01  1074.0\n",
       "1       000096 2022-03-22 13:16:09 2022-03-22 12:57:54  1095.0\n",
       "2       0000d4 2022-02-28 16:32:09 2022-02-28 16:13:47  1102.0\n",
       "3       0000d4 2022-03-27 11:26:30 2022-03-27 11:09:14  1036.0\n",
       "4       0000de 2022-02-11 18:57:15 2022-02-11 18:41:22   953.0\n",
       "...        ...                 ...                 ...     ...\n",
       "203842  fffcab 2022-03-07 14:44:11 2022-03-07 14:29:17   894.0\n",
       "203843  fffd64 2022-02-18 12:55:14 2022-02-18 12:42:01   793.0\n",
       "203844  ffff62 2022-03-19 20:36:32 2022-03-19 20:20:51   941.0\n",
       "203845  ffff8f 2022-02-05 12:31:36 2022-02-05 12:19:59   697.0\n",
       "203846  ffff8f 2022-02-13 19:27:01 2022-02-13 19:13:39   802.0\n",
       "\n",
       "[203847 rows x 4 columns]"
      ]
     },
     "execution_count": 44,
     "metadata": {},
     "output_type": "execute_result"
    }
   ],
   "source": [
    "# вычисляем время в секундах\n",
    "df_first_web['delta'] = (df_first_web['date_sale'] - df_first_web['date_web']).dt.total_seconds()\n",
    "df_first_web"
   ]
  },
  {
   "cell_type": "code",
   "execution_count": 45,
   "id": "b3916f8b",
   "metadata": {},
   "outputs": [
    {
     "name": "stdout",
     "output_type": "stream",
     "text": [
      "answer: 17\n"
     ]
    }
   ],
   "source": [
    "# считаем среднее время и переводим в минуты\n",
    "answer = round(df_first_web['delta'].mean() / 60)\n",
    "print('answer:', answer)"
   ]
  },
  {
   "cell_type": "markdown",
   "id": "0b6e8dbf",
   "metadata": {},
   "source": []
  },
  {
   "cell_type": "markdown",
   "id": "c44d7b9f",
   "metadata": {},
   "source": [
    "## Задача 3. Удержание клиентов"
   ]
  },
  {
   "cell_type": "markdown",
   "id": "7d806bb9",
   "metadata": {},
   "source": [
    "Интересно, как много пользователей возвращается к нам из месяца в месяц. Какая доля пользователей, совершивших покупку в феврале, совершила покупку и в марте?\n",
    "\n",
    "Для решения используйте данные из файла `2022-04-01T12_df_sales.csv.`\n",
    "\n",
    "Ответ округлите с точностью до 2-го знака после точки."
   ]
  },
  {
   "cell_type": "code",
   "execution_count": 49,
   "id": "d4e594dc",
   "metadata": {},
   "outputs": [],
   "source": [
    "df_sales = pd.read_csv('2022-04-01T12_df_sales.csv')"
   ]
  },
  {
   "cell_type": "code",
   "execution_count": 51,
   "id": "e664e3ce",
   "metadata": {},
   "outputs": [
    {
     "data": {
      "text/html": [
       "<div>\n",
       "<style scoped>\n",
       "    .dataframe tbody tr th:only-of-type {\n",
       "        vertical-align: middle;\n",
       "    }\n",
       "\n",
       "    .dataframe tbody tr th {\n",
       "        vertical-align: top;\n",
       "    }\n",
       "\n",
       "    .dataframe thead th {\n",
       "        text-align: right;\n",
       "    }\n",
       "</style>\n",
       "<table border=\"1\" class=\"dataframe\">\n",
       "  <thead>\n",
       "    <tr style=\"text-align: right;\">\n",
       "      <th></th>\n",
       "      <th>sale_id</th>\n",
       "      <th>date</th>\n",
       "      <th>count_pizza</th>\n",
       "      <th>count_drink</th>\n",
       "      <th>price</th>\n",
       "      <th>user_id</th>\n",
       "    </tr>\n",
       "  </thead>\n",
       "  <tbody>\n",
       "    <tr>\n",
       "      <th>0</th>\n",
       "      <td>1000001</td>\n",
       "      <td>2022-02-04 10:00:24</td>\n",
       "      <td>1</td>\n",
       "      <td>0</td>\n",
       "      <td>720</td>\n",
       "      <td>1c1543</td>\n",
       "    </tr>\n",
       "    <tr>\n",
       "      <th>1</th>\n",
       "      <td>1000002</td>\n",
       "      <td>2022-02-04 10:02:28</td>\n",
       "      <td>1</td>\n",
       "      <td>1</td>\n",
       "      <td>930</td>\n",
       "      <td>a9a6e8</td>\n",
       "    </tr>\n",
       "    <tr>\n",
       "      <th>2</th>\n",
       "      <td>1000003</td>\n",
       "      <td>2022-02-04 10:02:35</td>\n",
       "      <td>3</td>\n",
       "      <td>1</td>\n",
       "      <td>1980</td>\n",
       "      <td>23420a</td>\n",
       "    </tr>\n",
       "    <tr>\n",
       "      <th>3</th>\n",
       "      <td>1000004</td>\n",
       "      <td>2022-02-04 10:03:06</td>\n",
       "      <td>1</td>\n",
       "      <td>1</td>\n",
       "      <td>750</td>\n",
       "      <td>3e8ed5</td>\n",
       "    </tr>\n",
       "    <tr>\n",
       "      <th>4</th>\n",
       "      <td>1000005</td>\n",
       "      <td>2022-02-04 10:03:23</td>\n",
       "      <td>1</td>\n",
       "      <td>1</td>\n",
       "      <td>870</td>\n",
       "      <td>cbc468</td>\n",
       "    </tr>\n",
       "  </tbody>\n",
       "</table>\n",
       "</div>"
      ],
      "text/plain": [
       "   sale_id                 date  count_pizza  count_drink  price user_id\n",
       "0  1000001  2022-02-04 10:00:24            1            0    720  1c1543\n",
       "1  1000002  2022-02-04 10:02:28            1            1    930  a9a6e8\n",
       "2  1000003  2022-02-04 10:02:35            3            1   1980  23420a\n",
       "3  1000004  2022-02-04 10:03:06            1            1    750  3e8ed5\n",
       "4  1000005  2022-02-04 10:03:23            1            1    870  cbc468"
      ]
     },
     "execution_count": 51,
     "metadata": {},
     "output_type": "execute_result"
    }
   ],
   "source": [
    "df_sales.head()"
   ]
  },
  {
   "cell_type": "code",
   "execution_count": 54,
   "id": "0afdd2fd",
   "metadata": {},
   "outputs": [
    {
     "name": "stdout",
     "output_type": "stream",
     "text": [
      "<class 'pandas.core.frame.DataFrame'>\n",
      "RangeIndex: 203847 entries, 0 to 203846\n",
      "Data columns (total 6 columns):\n",
      " #   Column       Non-Null Count   Dtype \n",
      "---  ------       --------------   ----- \n",
      " 0   sale_id      203847 non-null  int64 \n",
      " 1   date         203847 non-null  object\n",
      " 2   count_pizza  203847 non-null  int64 \n",
      " 3   count_drink  203847 non-null  int64 \n",
      " 4   price        203847 non-null  int64 \n",
      " 5   user_id      203847 non-null  object\n",
      "dtypes: int64(4), object(2)\n",
      "memory usage: 9.3+ MB\n"
     ]
    }
   ],
   "source": [
    "df_sales.info()"
   ]
  },
  {
   "cell_type": "code",
   "execution_count": 64,
   "id": "3165e215",
   "metadata": {},
   "outputs": [
    {
     "data": {
      "text/plain": [
       "sale_id                 int64\n",
       "date           datetime64[ns]\n",
       "count_pizza             int64\n",
       "count_drink             int64\n",
       "price                   int64\n",
       "user_id                object\n",
       "dtype: object"
      ]
     },
     "execution_count": 64,
     "metadata": {},
     "output_type": "execute_result"
    }
   ],
   "source": [
    "df_sales['date'] = pd.to_datetime(df_sales['date'], unit='ns')\n",
    "df_sales.dtypes"
   ]
  },
  {
   "cell_type": "code",
   "execution_count": 65,
   "id": "97321ccb",
   "metadata": {},
   "outputs": [
    {
     "data": {
      "text/html": [
       "<div>\n",
       "<style scoped>\n",
       "    .dataframe tbody tr th:only-of-type {\n",
       "        vertical-align: middle;\n",
       "    }\n",
       "\n",
       "    .dataframe tbody tr th {\n",
       "        vertical-align: top;\n",
       "    }\n",
       "\n",
       "    .dataframe thead th {\n",
       "        text-align: right;\n",
       "    }\n",
       "</style>\n",
       "<table border=\"1\" class=\"dataframe\">\n",
       "  <thead>\n",
       "    <tr style=\"text-align: right;\">\n",
       "      <th></th>\n",
       "      <th>sale_id</th>\n",
       "      <th>date</th>\n",
       "      <th>count_pizza</th>\n",
       "      <th>count_drink</th>\n",
       "      <th>price</th>\n",
       "      <th>user_id</th>\n",
       "      <th>month</th>\n",
       "    </tr>\n",
       "  </thead>\n",
       "  <tbody>\n",
       "    <tr>\n",
       "      <th>0</th>\n",
       "      <td>1000001</td>\n",
       "      <td>2022-02-04 10:00:24</td>\n",
       "      <td>1</td>\n",
       "      <td>0</td>\n",
       "      <td>720</td>\n",
       "      <td>1c1543</td>\n",
       "      <td>2</td>\n",
       "    </tr>\n",
       "    <tr>\n",
       "      <th>1</th>\n",
       "      <td>1000002</td>\n",
       "      <td>2022-02-04 10:02:28</td>\n",
       "      <td>1</td>\n",
       "      <td>1</td>\n",
       "      <td>930</td>\n",
       "      <td>a9a6e8</td>\n",
       "      <td>2</td>\n",
       "    </tr>\n",
       "    <tr>\n",
       "      <th>2</th>\n",
       "      <td>1000003</td>\n",
       "      <td>2022-02-04 10:02:35</td>\n",
       "      <td>3</td>\n",
       "      <td>1</td>\n",
       "      <td>1980</td>\n",
       "      <td>23420a</td>\n",
       "      <td>2</td>\n",
       "    </tr>\n",
       "    <tr>\n",
       "      <th>3</th>\n",
       "      <td>1000004</td>\n",
       "      <td>2022-02-04 10:03:06</td>\n",
       "      <td>1</td>\n",
       "      <td>1</td>\n",
       "      <td>750</td>\n",
       "      <td>3e8ed5</td>\n",
       "      <td>2</td>\n",
       "    </tr>\n",
       "    <tr>\n",
       "      <th>4</th>\n",
       "      <td>1000005</td>\n",
       "      <td>2022-02-04 10:03:23</td>\n",
       "      <td>1</td>\n",
       "      <td>1</td>\n",
       "      <td>870</td>\n",
       "      <td>cbc468</td>\n",
       "      <td>2</td>\n",
       "    </tr>\n",
       "    <tr>\n",
       "      <th>...</th>\n",
       "      <td>...</td>\n",
       "      <td>...</td>\n",
       "      <td>...</td>\n",
       "      <td>...</td>\n",
       "      <td>...</td>\n",
       "      <td>...</td>\n",
       "      <td>...</td>\n",
       "    </tr>\n",
       "    <tr>\n",
       "      <th>203842</th>\n",
       "      <td>1203843</td>\n",
       "      <td>2022-04-01 11:59:15</td>\n",
       "      <td>2</td>\n",
       "      <td>1</td>\n",
       "      <td>1410</td>\n",
       "      <td>7d3869</td>\n",
       "      <td>4</td>\n",
       "    </tr>\n",
       "    <tr>\n",
       "      <th>203843</th>\n",
       "      <td>1203844</td>\n",
       "      <td>2022-04-01 11:59:20</td>\n",
       "      <td>1</td>\n",
       "      <td>0</td>\n",
       "      <td>780</td>\n",
       "      <td>b7feae</td>\n",
       "      <td>4</td>\n",
       "    </tr>\n",
       "    <tr>\n",
       "      <th>203844</th>\n",
       "      <td>1203845</td>\n",
       "      <td>2022-04-01 11:59:43</td>\n",
       "      <td>1</td>\n",
       "      <td>0</td>\n",
       "      <td>600</td>\n",
       "      <td>7cdcc7</td>\n",
       "      <td>4</td>\n",
       "    </tr>\n",
       "    <tr>\n",
       "      <th>203845</th>\n",
       "      <td>1203846</td>\n",
       "      <td>2022-04-01 11:59:45</td>\n",
       "      <td>1</td>\n",
       "      <td>1</td>\n",
       "      <td>630</td>\n",
       "      <td>47b825</td>\n",
       "      <td>4</td>\n",
       "    </tr>\n",
       "    <tr>\n",
       "      <th>203846</th>\n",
       "      <td>1203847</td>\n",
       "      <td>2022-04-01 11:59:51</td>\n",
       "      <td>1</td>\n",
       "      <td>0</td>\n",
       "      <td>780</td>\n",
       "      <td>cdaabb</td>\n",
       "      <td>4</td>\n",
       "    </tr>\n",
       "  </tbody>\n",
       "</table>\n",
       "<p>203847 rows × 7 columns</p>\n",
       "</div>"
      ],
      "text/plain": [
       "        sale_id                date  count_pizza  count_drink  price user_id  \\\n",
       "0       1000001 2022-02-04 10:00:24            1            0    720  1c1543   \n",
       "1       1000002 2022-02-04 10:02:28            1            1    930  a9a6e8   \n",
       "2       1000003 2022-02-04 10:02:35            3            1   1980  23420a   \n",
       "3       1000004 2022-02-04 10:03:06            1            1    750  3e8ed5   \n",
       "4       1000005 2022-02-04 10:03:23            1            1    870  cbc468   \n",
       "...         ...                 ...          ...          ...    ...     ...   \n",
       "203842  1203843 2022-04-01 11:59:15            2            1   1410  7d3869   \n",
       "203843  1203844 2022-04-01 11:59:20            1            0    780  b7feae   \n",
       "203844  1203845 2022-04-01 11:59:43            1            0    600  7cdcc7   \n",
       "203845  1203846 2022-04-01 11:59:45            1            1    630  47b825   \n",
       "203846  1203847 2022-04-01 11:59:51            1            0    780  cdaabb   \n",
       "\n",
       "        month  \n",
       "0           2  \n",
       "1           2  \n",
       "2           2  \n",
       "3           2  \n",
       "4           2  \n",
       "...       ...  \n",
       "203842      4  \n",
       "203843      4  \n",
       "203844      4  \n",
       "203845      4  \n",
       "203846      4  \n",
       "\n",
       "[203847 rows x 7 columns]"
      ]
     },
     "execution_count": 65,
     "metadata": {},
     "output_type": "execute_result"
    }
   ],
   "source": [
    "# добавляем столбец с месяцем\n",
    "df_sales['month'] = df_sales['date'].dt.month\n",
    "df_sales"
   ]
  },
  {
   "cell_type": "code",
   "execution_count": 75,
   "id": "2921e2dc",
   "metadata": {},
   "outputs": [
    {
     "data": {
      "text/plain": [
       "['1c1543', 'a9a6e8', '23420a', '3e8ed5', 'cbc468']"
      ]
     },
     "execution_count": 75,
     "metadata": {},
     "output_type": "execute_result"
    }
   ],
   "source": [
    "# пользователи с покупкой в феврале\n",
    "users_feb = df_sales[df_sales['month'] == 2]['user_id'].unique().tolist()\n",
    "users_feb[:5]"
   ]
  },
  {
   "cell_type": "code",
   "execution_count": 76,
   "id": "139753d0",
   "metadata": {},
   "outputs": [
    {
     "data": {
      "text/plain": [
       "['043908', 'ad7128', '79ab41', '3f94bc', '7cbf72']"
      ]
     },
     "execution_count": 76,
     "metadata": {},
     "output_type": "execute_result"
    }
   ],
   "source": [
    "# пользователи с покупкой в марте\n",
    "users_mar = df_sales[df_sales['month'] == 3]['user_id'].unique().tolist()\n",
    "users_mar[:5]"
   ]
  },
  {
   "cell_type": "code",
   "execution_count": 77,
   "id": "76c9f29d",
   "metadata": {},
   "outputs": [
    {
     "name": "stdout",
     "output_type": "stream",
     "text": [
      "answer: 0.66\n"
     ]
    }
   ],
   "source": [
    "# пользователи с покупкой в феврале и марте\n",
    "users_feb_mar = list(set(users_feb).intersection(set(users_mar)))\n",
    "\n",
    "answer = len(users_feb_mar) / len(users_feb)\n",
    "print('answer:', round(answer, 2))"
   ]
  }
 ],
 "metadata": {
  "kernelspec": {
   "display_name": "Python 3 (ipykernel)",
   "language": "python",
   "name": "python3"
  },
  "language_info": {
   "codemirror_mode": {
    "name": "ipython",
    "version": 3
   },
   "file_extension": ".py",
   "mimetype": "text/x-python",
   "name": "python",
   "nbconvert_exporter": "python",
   "pygments_lexer": "ipython3",
   "version": "3.9.13"
  }
 },
 "nbformat": 4,
 "nbformat_minor": 5
}
